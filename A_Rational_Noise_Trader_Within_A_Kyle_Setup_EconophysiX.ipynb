{
 "cells": [
  {
   "cell_type": "code",
   "execution_count": 126,
   "metadata": {},
   "outputs": [],
   "source": [
    "import numpy as np\n",
    "from scipy import signal\n",
    "import matplotlib.pyplot as plt\n",
    "import matplotlib\n",
    "from scipy import linalg\n",
    "from mpmath import *\n",
    "from numba import njit\n",
    "\n",
    "def delta(i):\n",
    "    if i == 0:\n",
    "        return 1\n",
    "    else:\n",
    "        return 0"
   ]
  },
  {
   "cell_type": "markdown",
   "metadata": {},
   "source": [
    "## Auxilliary functions for common ACFs"
   ]
  },
  {
   "cell_type": "markdown",
   "metadata": {},
   "source": [
    "**Markovian Process ACF**"
   ]
  },
  {
   "cell_type": "code",
   "execution_count": 127,
   "metadata": {},
   "outputs": [],
   "source": [
    "def return_Markovian_ACF(tau,T):\n",
    "    ACF = np.zeros((T,T))\n",
    "    alpha = np.exp(-1/tau)\n",
    "    for i in range(0,T):\n",
    "        for j in range(0,T):\n",
    "            ACF[i,j] = alpha**np.abs(i-j)\n",
    "    return ACF"
   ]
  },
  {
   "cell_type": "markdown",
   "metadata": {},
   "source": [
    "## Coding the forecast matrix"
   ]
  },
  {
   "cell_type": "code",
   "execution_count": 128,
   "metadata": {},
   "outputs": [],
   "source": [
    "#@njit\n",
    "def optimized_matrix_inverse(matrix):\n",
    "    return np.linalg.inv(matrix)"
   ]
  },
  {
   "cell_type": "code",
   "execution_count": 370,
   "metadata": {},
   "outputs": [],
   "source": [
    "def Mforecast(tipo, process, param, t0, T, C_fixed):\n",
    "\n",
    "        tau_mu = param[0]\n",
    "        tau_NT = param[1]\n",
    "        if tipo == \"mark\":\n",
    "            if process == \"MU\":\n",
    "                alpha_appo = np.exp(-1/param[0])\n",
    "                C_appo = np.fromfunction(lambda i,j : alpha_appo**np.abs(i-j), (T,T), dtype = float)\n",
    "                flag = 0\n",
    "            if process == \"NT\":\n",
    "                alpha_appo = np.exp(-1/param[1])\n",
    "                C_appo = np.fromfunction(lambda i,j : alpha_appo**np.abs(i-j), (T,T), dtype = float)\n",
    "                flag = 0\n",
    "        if tipo == \"osc\":\n",
    "            if process == \"MU\":\n",
    "                alpha_mu = np.exp(-1/param[0])\n",
    "                tau1_mu = param[1]\n",
    "                C_appo = np.fromfunction(lambda i,j : alpha_mu**np.abs(i-j)*np.sin((i-j)/tau1_mu+np.pi/2), (T,T), dtype = float)\n",
    "                flag = 0\n",
    "            if process == \"NT\":\n",
    "                alpha_NT = np.exp(-1/param[2])\n",
    "                tau1_NT = param[3]\n",
    "                C_appo = np.fromfunction(lambda i,j : alpha_NT**np.abs(i-j)*np.sin((i-j)/(tau1_NT)+np.pi/2), (T,T), dtype = float)\n",
    "                flag = 0\n",
    "                     \n",
    "        if tipo == \"id\":\n",
    "            if process == \"MU\":\n",
    "                alpha_appo = np.exp(-1/param[0])\n",
    "                C_appo = np.identity(T)\n",
    "                flag = 0\n",
    "            if process == \"NT\":\n",
    "                alpha_appo = np.exp(-1/(param[0]))\n",
    "                C_appo = np.fromfunction(lambda i,j : alpha_appo**np.abs(i-j)*np.sin((i-j)/(tau_NT)+np.pi/2), (T,T), dtype = float)\n",
    "                flag = 0\n",
    "        \n",
    "        if tipo == \"pl\":\n",
    "            if process == \"MU\":\n",
    "                tau = param[0]\n",
    "                gamma = param[1]\n",
    "                C_appo = (np.fromfunction(lambda i, j: np.power( 1+np.absolute(i-j)/tau,-gamma), (T,T), dtype=float))\n",
    "                flag = 0\n",
    "            if process == \"NT\":\n",
    "                tau = param[2]\n",
    "                gamma = param[3]\n",
    "                C_appo = (np.fromfunction(lambda i, j: np.power( 1+np.absolute(i-j)/tau,-gamma), (T,T), dtype=float))\n",
    "                flag = 0\n",
    "        \n",
    "        if tipo == \"fixed\":\n",
    "                C_appo = C_fixed\n",
    "                flag = 1\n",
    "            \n",
    "        g = np.zeros((T-t0,t0))\n",
    "        for J in range (t0+1,T+1):\n",
    "            \n",
    "            # In the case of a fixed ACF given, this part of the code augments the correlation matrix at each \n",
    "            # iteration, in view of evaluating the forecasts\n",
    "            if(flag):\n",
    "                C_last = C_appo\n",
    "                C_appo = np.zeros((J,J))\n",
    "                J_last = C_last.shape[0]\n",
    "                for i in range (0,J_last):\n",
    "                    for j in range(0,J_last):\n",
    "                        C_appo[i,j] = C_last[i,j]\n",
    "                if(C_appo.shape[0] > C_last.shape[0]):\n",
    "                    C_appo[0,C_appo.shape[0]-1] = 0\n",
    "                    C_appo[C_appo.shape[0]-1,0] = 0\n",
    "                    for row in range(1,C_appo.shape[0]):\n",
    "                        C_appo[row,C_appo.shape[0]-1] = C_appo[row-1,C_appo.shape[0]-2]\n",
    "                    C_appo[C_appo.shape[0]-1,1:] = C_appo[1:C_appo.shape[0],C_appo.shape[0]-1]\n",
    "                        \n",
    "                \n",
    "            C = C_appo[:J,:J]\n",
    "            #print(C)\n",
    "            inv_C = optimized_matrix_inverse(C)\n",
    "            inv_C[np.abs(inv_C) < pow(10,-10)] = 0 ###added line for optimization\n",
    "            inv_C_int = inv_C[t0:J-1,t0:J-1]\n",
    "            inv_inv_C_int = optimized_matrix_inverse(inv_C_int)\n",
    "            inv_inv_C_int[np.abs(inv_inv_C_int) < pow(10,-10)] = 0 ###added line for optimization\n",
    "            delta_inv_C = +inv_C[:,t0:J-1].dot(inv_inv_C_int).dot(inv_C[t0:J-1,:])\n",
    "            delta_inv_C[np.abs(delta_inv_C) < pow(10,-10)] = 0 ##added line for optimization\n",
    "            matrix = (inv_C[J-1,J-1]-delta_inv_C[J-1,J-1])**(-1)*(inv_C-delta_inv_C)\n",
    "            g[J-t0-1,:t0] = matrix[J-1,:t0]\n",
    "        return g"
   ]
  },
  {
   "cell_type": "markdown",
   "metadata": {},
   "source": [
    "## Coding $\\mathsf{G}$ and $\\mathsf{G_{/t,t-1}}$"
   ]
  },
  {
   "cell_type": "code",
   "execution_count": 130,
   "metadata": {},
   "outputs": [],
   "source": [
    "def return_G(G_0_seed, alpha_G, T):\n",
    "    G_0_seed = G_0_seed\n",
    "    alpha_G = alpha_G\n",
    "    G_seed = G_0_seed*np.fromfunction(lambda i,j : alpha_G**np.abs(j-i)*np.heaviside(i-j,1), (T,T),dtype = np.float)\n",
    "    return G_seed"
   ]
  },
  {
   "cell_type": "code",
   "execution_count": 131,
   "metadata": {},
   "outputs": [],
   "source": [
    "def return_G_futpast(G):\n",
    "    \n",
    "    T = G.shape[0]\n",
    "    \n",
    "    # G_{/T,T-1}\n",
    "    G_futpast = np.zeros((T,T))\n",
    "    \n",
    "    for i in range(0,T):\n",
    "        for j in range(0,T):\n",
    "            dummy = T + i\n",
    "            if(dummy - j >= T):\n",
    "                G_futpast[i][j] = 0\n",
    "            else:\n",
    "                G_futpast[i][j] = G[dummy - j][0]\n",
    "    \n",
    "    return G_futpast"
   ]
  },
  {
   "cell_type": "markdown",
   "metadata": {},
   "source": [
    "## Coding the Noise Trader's Kernels"
   ]
  },
  {
   "cell_type": "code",
   "execution_count": 334,
   "metadata": {},
   "outputs": [],
   "source": [
    "#This function returns the kernels respective to the Noise Trader's trading schedule\n",
    "#alpha > 0\n",
    "\n",
    "def NTKernels(alpha, G):\n",
    "    \n",
    "    T = G.shape[0]\n",
    "    \n",
    "    G_sym = G + G.T\n",
    "    \n",
    "    #This can represent e_{T-1} and also e_{/T} \n",
    "    e_T = np.zeros((T,1))\n",
    "    e_T[0,0] = 1\n",
    "    \n",
    "    ones_vec = np.ones((T,1))\n",
    "    \n",
    "    M = -alpha*G_sym - 2*np.matmul(e_T,e_T.T)\n",
    "    M_inv = np.linalg.inv(M)\n",
    "    \n",
    "    # G_{/T,T-1}\n",
    "    G_futpast = return_G_futpast(G)\n",
    "\n",
    "    #COMPUTING J\n",
    "    #J is the noise trader's kernel relative to the past excess demand\n",
    "    j_t = np.matmul(e_T.T,alpha*np.matmul(M_inv,G_futpast) + 2*np.matmul(M_inv,np.matmul(e_T,ones_vec.T)))\n",
    "    J = np.zeros((T+1,T))\n",
    "\n",
    "    for i in range(0,T+1):\n",
    "        dummy = T - i\n",
    "        J[dummy,:dummy] = j_t[0,:dummy]\n",
    "     \n",
    "    #COMPUTING J_IT\n",
    "    #J_IT is the noise trader's kernel relative to the past informed trader's demand \n",
    "    \n",
    "    #F_IT = Mforecast(\"mark\",\"MU\",[1,1],T,2T)\n",
    "    #F_IT[np.abs(F_IT) < pow(10,-15)] = 0\n",
    "    \n",
    "    #We are using the hypothesis that the noise trader does not know how to forecast the IT's trades\n",
    "    F_IT = np.zeros((T,T))\n",
    "    \n",
    "    #J_IT is the noise trader's kernel relative to the past informed trader's demand \n",
    "    j_IT = np.matmul(e_T.T,alpha*np.matmul(M_inv,np.matmul(G,F_IT)) - 2*np.matmul(M_inv,np.matmul(e_T,ones_vec.T)))\n",
    "    J_IT = np.zeros((T+1,T))\n",
    "    \n",
    "    for i in range(0,T+1):\n",
    "        dummy = T - i\n",
    "        J_IT[dummy,:dummy] = j_IT[0,:dummy]\n",
    "        \n",
    "    #COMPUTING J_TGT\n",
    "    #J_TGT is the noise trader's kernel relative to the past target portolio's demand\n",
    "    j_TGT = np.matmul(e_T.T,-2*np.matmul(M_inv,np.matmul(e_T,np.ones((T+1,1)).T)))\n",
    "    J_TGT = np.zeros((T+1,T+1))\n",
    "    \n",
    "    for i in range(0,T+1):\n",
    "        dummy = T - i\n",
    "        J_TGT[dummy,:dummy+1] = j_TGT[0,:dummy+1]\n",
    "    \n",
    "    return J,J_IT,J_TGT"
   ]
  },
  {
   "cell_type": "markdown",
   "metadata": {},
   "source": [
    "## Coding the Informed Trader's Kernels"
   ]
  },
  {
   "cell_type": "code",
   "execution_count": 335,
   "metadata": {},
   "outputs": [],
   "source": [
    "#This function returns the kernels respective to the Informed Trader's trading schedule\n",
    "#ACF_NT is the auto-correlation matrix of the noise trader's trades\n",
    "\n",
    "def ITKernels(G, ACF_NT, F_MU, is_rational, tau_NT):\n",
    "    \n",
    "    T = G.shape[0]\n",
    "    \n",
    "    G_sym = G + G.T\n",
    "    G_sym_inv = np.linalg.inv(G_sym)\n",
    "    \n",
    "    #This can represent e_{T-1} and also e_{/T} \n",
    "    e_T = np.zeros((T,1))\n",
    "    e_T[0,0] = 1\n",
    "    \n",
    "    ones_vec = np.ones((T,1))\n",
    "    \n",
    "    # G_{/T,T-1}\n",
    "    G_futpast = return_G_futpast(G)\n",
    "    \n",
    "    #COMPUTING K\n",
    "    #K is the informed trader's kernel relative to the past excess demand\n",
    "    k_t = -1*np.matmul(e_T.T,np.matmul(G_sym_inv,G_futpast))\n",
    "    K = np.zeros((T+1,T))\n",
    "    \n",
    "    for i in range(0,T+1):\n",
    "        dummy = T - i\n",
    "        K[dummy,:dummy] = k_t[0,:dummy]\n",
    "        \n",
    "    #COMPUTING K_NT\n",
    "    #K_NT is the informed trader's kernel relative to the past noise trader's demand\n",
    "    if is_rational == True:\n",
    "        F_NT = -np.flip(np.flip(Mforecast('fixed','_',[_,_],T,2*T,ACF_NT),1),0)\n",
    "    else:\n",
    "        F_NT = -np.flip(np.flip(Mforecast(\"mark\",\"NT\",[_,tau_NT],T,2*T,_),1),0)\n",
    "    \n",
    "    k_NT = -1*np.matmul(e_T.T,np.matmul(G_sym_inv,np.matmul(G,F_NT)))\n",
    "    K_NT = np.zeros((T+1,T))\n",
    "    \n",
    "    for i in range(0,T+1):\n",
    "        dummy = T - i\n",
    "        K_NT[dummy,:dummy] = k_NT[0,:dummy]\n",
    "        \n",
    "    #COMPUTING K_MU\n",
    "    #K_MU is the informed trader's kernel relative to the past dividends realizations    \n",
    "    k_MU = np.matmul(e_T.T,np.matmul(G_sym_inv,np.matmul(np.ones((T,T)),F_MU)))\n",
    "    K_MU = np.zeros((T+1,T))\n",
    "    \n",
    "    for i in range(0,T+1):\n",
    "        dummy = T - i\n",
    "        K_MU[dummy,:dummy] = k_MU[0,:dummy]\n",
    "    \n",
    "    \n",
    "    return K, K_NT, K_MU"
   ]
  },
  {
   "cell_type": "code",
   "execution_count": 134,
   "metadata": {},
   "outputs": [],
   "source": [
    "#This function returns the kernels respective to the Informed Trader's trading schedule\n",
    "#ACF_NT is the auto-correlation matrix of the noise trader's trades\n",
    "\n",
    "#def ITKernelsSimplified(G, F_MU):\n",
    "#    \n",
    "#    T = G.shape[0]\n",
    "#    \n",
    "#    G_sym = G + G.T\n",
    "#    G_sym_inv = np.linalg.inv(G_sym)\n",
    "#    \n",
    "#    #This can represent e_{T-1} and also e_{/T} \n",
    "#    e_T = np.zeros((T,1))\n",
    "#    e_T[0,0] = 1\n",
    "#    \n",
    "#    ones_vec = np.ones((T,1))\n",
    "#    \n",
    "#    # G_{/T,T-1}\n",
    "#    G_futpast = return_G_futpast(G)\n",
    "#    \n",
    "#    #COMPUTING K\n",
    "#    #K is the informed trader's kernel relative to the past excess demand\n",
    "#    k_t = -1*np.matmul(e_T.T,np.matmul(G_sym_inv,G_futpast))\n",
    "#    K = np.zeros((T+1,T))\n",
    "#    \n",
    "#    for i in range(0,T+1):\n",
    "#        dummy = T - i\n",
    "#        K[dummy,:dummy] = k_t[0,:dummy]\n",
    "#        \n",
    "#    #COMPUTING K_MU\n",
    "#    #K_MU is the informed trader's kernel relative to the past dividends realizations    \n",
    "#    k_MU = -1*np.matmul(e_T.T,np.matmul(G_sym_inv,np.matmul(np.ones((T,T)),F_MU)))\n",
    "#    K_MU = np.zeros((T+1,T))\n",
    "#    \n",
    "#    for i in range(0,T+1):\n",
    "#        dummy = T - i\n",
    "#        K_MU[dummy,:dummy] = k_MU[0,:dummy]\n",
    "#    \n",
    "#    \n",
    "#    return K, K_MU"
   ]
  },
  {
   "cell_type": "markdown",
   "metadata": {},
   "source": [
    "## Coding the  $\\mathsf{D}s$ matrices"
   ]
  },
  {
   "cell_type": "code",
   "execution_count": 336,
   "metadata": {},
   "outputs": [],
   "source": [
    "def return_Ds(G, alpha, ACF_NT, F_MU):\n",
    "    \n",
    "    T = G.shape[0]\n",
    "    \n",
    "    J, J_IT, J_TGT = NTKernels(alpha, G)\n",
    "    \n",
    "    K, K_NT, K_MU = ITKernels(G, ACF_NT, F_MU, True, _)\n",
    "    \n",
    "    I = np.identity(T+1)\n",
    "    \n",
    "    L = np.zeros((T,T+1))\n",
    "    L[:T,:T] = np.identity(T)\n",
    "    \n",
    "    aux_1 = np.linalg.inv(I - np.matmul(K,L))\n",
    "    aux_2 = np.linalg.inv(I - np.matmul(J,L))\n",
    "        \n",
    "    X = I - np.matmul(J,L) - np.matmul(J + J_IT, np.matmul(L, np.matmul(aux_1, np.matmul(K + K_NT, L))))\n",
    "    \n",
    "    Y = I - np.matmul(K,L) - np.matmul(K + K_NT, np.matmul(L, np.matmul(aux_2, np.matmul(J + J_IT, L))))\n",
    "    \n",
    "    X_inv = np.linalg.inv(X)\n",
    "    Y_inv = np.linalg.inv(Y)\n",
    "    \n",
    "    #Market Maker's Ds\n",
    "    D_MU = np.matmul(np.matmul(X_inv, np.matmul(J+J_IT, np.matmul(L,aux_1))) + Y_inv, K_MU)\n",
    "    \n",
    "    D_TGT = np.matmul(np.matmul(Y_inv, np.matmul(K+K_NT, np.matmul(L,aux_2))) + X_inv, J_TGT)\n",
    "    \n",
    "    #Noise Trader's Ds\n",
    "    D_MU_NT = np.matmul(X_inv,np.matmul(J+J_IT,np.matmul(L,np.matmul(aux_1,K_MU))))\n",
    "    \n",
    "    D_TGT_NT = np.matmul(X_inv,J_TGT) \n",
    "    \n",
    "    #Informed Trader's Ds\n",
    "    D_MU_IT = np.matmul(Y_inv,K_MU)\n",
    "    \n",
    "    D_TGT_IT = np.matmul(Y_inv,np.matmul(K+K_NT,np.matmul(L,np.matmul(aux_2,J_TGT))))\n",
    "    \n",
    "    return D_MU, D_TGT, D_MU_NT, D_TGT_NT, D_MU_IT, D_TGT_IT"
   ]
  },
  {
   "cell_type": "code",
   "execution_count": 337,
   "metadata": {},
   "outputs": [],
   "source": [
    "#def return_Ds_simplified(G, alpha, F_MU, ACF_MU, ACF_TGT):\n",
    "#    \n",
    "#    T = G.shape[0]\n",
    "#    \n",
    "#    J, J_IT, J_TGT = NTKernels(alpha, G)\n",
    "#    \n",
    "#    K, K_MU = ITKernelsSimplified(G, F_MU)\n",
    "#    \n",
    "#    I = np.identity(T+1)\n",
    "#    \n",
    "#    L = np.zeros((T,T+1))\n",
    "#    L[:T,:T] = np.identity(T)\n",
    "#    \n",
    "#    aux_1 = np.linalg.inv(I - np.matmul(K,L))\n",
    "#    aux_2 = np.linalg.inv(I - np.matmul(J,L))\n",
    "#    \n",
    "#    X = I - np.matmul(J,L) - np.matmul(J + J_IT, np.matmul(L, np.matmul(aux_1, np.matmul(K , L))))\n",
    "#    \n",
    "#    #Noise Trader's Ds\n",
    "#    D_MU_NT = np.matmul(X_inv,np.matmul(J+J_IT,np.matmul(L,np.matmul(aux_1,K_MU))))\n",
    "#    \n",
    "#    D_TGT_NT = np.matmul(X_inv,J_TGT) \n",
    "#    \n",
    "#    #Evaluating ACF_NT\n",
    "#    ACF_NT = return_ACF_NT_simplified(G, ACF_MU, ACF_TGT, D_MU_NT, D_TGT_NT)\n",
    "#        \n",
    "#    \n",
    "#    Y = I - np.matmul(K,L) - np.matmul(K + K_NT, np.matmul(L, np.matmul(aux_2, np.matmul(J + J_IT, L))))\n",
    "#    \n",
    "#    X_inv = np.linalg.inv(X)\n",
    "#    Y_inv = np.linalg.inv(Y)\n",
    "#    \n",
    "#    #Market Maker's Ds\n",
    "#    D_MU = np.matmul(np.matmul(X_inv, np.matmul(J+J_IT, np.matmul(L,aux_1))) + Y_inv, K_MU)\n",
    "#    \n",
    "#    D_TGT = np.matmul(np.matmul(Y_inv, np.matmul(K+K_NT, np.matmul(L,aux_2))) + X_inv, J_TGT)\n",
    "#    \n",
    "#\n",
    "#    #Informed Trader's Ds\n",
    "#    D_MU_IT = np.matmul(Y_inv,K_MU)\n",
    "#    \n",
    "#    D_TGT_IT = np.matmul(Y_inv,np.matmul(K+K_NT,np.matmul(L,np.matmul(aux_2,J_TGT))))\n",
    "#    \n",
    "#    return D_MU, D_TGT, D_MU_NT, D_TGT_NT, D_MU_IT, D_TGT_IT"
   ]
  },
  {
   "cell_type": "markdown",
   "metadata": {},
   "source": [
    "## Coding the ACFs"
   ]
  },
  {
   "cell_type": "code",
   "execution_count": 338,
   "metadata": {},
   "outputs": [],
   "source": [
    "def return_ACF_NT(G, ACF_MU, ACF_TGT, Ds):    \n",
    "\n",
    "    D_MU_NT = Ds[2]\n",
    "    D_TGT_NT = Ds[3]\n",
    "    \n",
    "    ACF_NT = np.matmul(D_TGT_NT, np.matmul(ACF_TGT, D_TGT_NT.T)) + np.matmul(D_MU_NT, np.matmul(ACF_MU, D_MU_NT.T))\n",
    "        \n",
    "    return ACF_NT"
   ]
  },
  {
   "cell_type": "code",
   "execution_count": 339,
   "metadata": {},
   "outputs": [],
   "source": [
    "#def return_ACF_NT_simplified(G, ACF_MU, ACF_TGT, D_MU_NT, D_TGT_NT):\n",
    "#    \n",
    "#    ACF_NT = np.matmul(D_TGT_NT, np.matmul(ACF_TGT, D_TGT_NT.T)) + np.matmul(D_MU_NT, np.matmul(ACF_MU, D_MU_NT.T))\n",
    "#    \n",
    "#    return ACF_NT"
   ]
  },
  {
   "cell_type": "code",
   "execution_count": 340,
   "metadata": {},
   "outputs": [],
   "source": [
    "def return_ACF_IT(G, ACF_MU, ACF_TGT, Ds):\n",
    "    T = G.shape[0]\n",
    "    \n",
    "    D_MU_IT = Ds[4]\n",
    "    D_TGT_IT = Ds[5]\n",
    "    \n",
    "    ACF_IT = np.matmul(D_TGT_IT, np.matmul(ACF_TGT, D_TGT_IT.T)) + np.matmul(D_MU_IT, np.matmul(ACF_MU, D_MU_IT.T))\n",
    "        \n",
    "    return ACF_IT"
   ]
  },
  {
   "cell_type": "code",
   "execution_count": 341,
   "metadata": {},
   "outputs": [],
   "source": [
    "def return_ACF_Q(G,ACF_MU,ACF_TGT, Ds):\n",
    "    T = G.shape[0]\n",
    "    \n",
    "    D_MU = Ds[0]\n",
    "    D_TGT = Ds[1]\n",
    "    \n",
    "    ACF_Q = np.matmul(D_TGT, np.matmul(ACF_TGT, D_TGT.T)) + np.matmul(D_MU, np.matmul(ACF_MU, D_MU.T))\n",
    "        \n",
    "    return ACF_Q"
   ]
  },
  {
   "cell_type": "markdown",
   "metadata": {},
   "source": [
    "## Coding the Kalman Filter used by the Market Maker"
   ]
  },
  {
   "cell_type": "code",
   "execution_count": 342,
   "metadata": {},
   "outputs": [],
   "source": [
    "def kalman_filter(G, tau_MU, ACF_Q, D_MU):\n",
    "    \n",
    "    T = G.shape[0]\n",
    "    \n",
    "    L = np.zeros((T,T+1))\n",
    "    L[:T,:T] = np.identity(T)\n",
    "    \n",
    "    ACF_MU = return_Markovian_ACF(tau_MU, T+1)\n",
    "    \n",
    "    ACF_Q_inv = np.linalg.inv(ACF_Q)\n",
    "    aux = (np.matmul(D_MU,L)).T\n",
    "    \n",
    "    return np.matmul(ACF_MU, np.matmul(aux,ACF_Q_inv))"
   ]
  },
  {
   "cell_type": "markdown",
   "metadata": {},
   "source": [
    "## Coding the equilibrium equation - A self-consistent equation for G"
   ]
  },
  {
   "cell_type": "code",
   "execution_count": 345,
   "metadata": {},
   "outputs": [],
   "source": [
    "def new_G_from_equilibrium(G,K,F_MU):\n",
    "    \n",
    "    T = G.shape[0]\n",
    "    \n",
    "    g = np.zeros((1,T))\n",
    "\n",
    "    for s in range(0,T):\n",
    "        sum_aux = 0\n",
    "        for t_prime in range(0,T):\n",
    "            for t_two_primes in range(0,T):\n",
    "                sum_aux = sum_aux + F_MU[t_prime,t_two_primes]*K[t_two_primes,s]\n",
    "        g[0,s] = sum_aux\n",
    "    \n",
    "    G = np.zeros((T,T))\n",
    "    G[:,[0]] = g.T\n",
    "    \n",
    "    for p in range(1,T):\n",
    "        G[p:,p] = g[0,:T-p].T\n",
    "        \n",
    "    \n",
    "    return G        "
   ]
  },
  {
   "cell_type": "markdown",
   "metadata": {},
   "source": [
    "## Numerical Solvers - Rational and Irrational Noise Traders"
   ]
  },
  {
   "cell_type": "code",
   "execution_count": 346,
   "metadata": {},
   "outputs": [],
   "source": [
    "def numerical_solver_rational_noise_trader(T, T_it, G_0_seed, alpha_G, alpha, tau_MU, ACF_TGT):\n",
    "    \n",
    "    G = return_G(G_0_seed, alpha_G, T)\n",
    "    \n",
    "    ACF_MU = return_Markovian_ACF(tau_MU, T)\n",
    "    F_MU = -np.flip(Mforecast('mark','MU',[tau_MU,_],T,2*T,_),1)\n",
    "    \n",
    "    G_s = []\n",
    "    ACFs_NT = []\n",
    "    ACFs_Q = []\n",
    "    ACFs_IT = []\n",
    "    \n",
    "    for iteration in range(0,T_it):\n",
    "        \n",
    "        G_s.append(G[:,0])\n",
    "        \n",
    "        if(iteration == 0):\n",
    "            ACF_NT = return_Markovian_ACF(10,T+1)\n",
    "   \n",
    "        Ds = return_Ds(G, alpha, ACF_NT, F_MU)\n",
    "        \n",
    "        ACF_Q = return_ACF_Q(G, ACF_MU, ACF_TGT, Ds)\n",
    "        \n",
    "        K = kalman_filter(G, tau_MU, ACF_Q, Ds[0])\n",
    "        \n",
    "        G = new_G_from_equilibrium(G,K,F_MU) \n",
    "        \n",
    "        ACF_NT = return_ACF_NT(G, ACF_MU, ACF_TGT, Ds)\n",
    "        ACF_IT = return_ACF_IT(G, ACF_MU, ACF_TGT, Ds)\n",
    "        \n",
    "        ACFs_IT.append(ACF_IT)\n",
    "        ACFs_NT.append(ACF_NT)\n",
    "        ACFs_Q.append(ACF_Q)\n",
    "        \n",
    "        print(f\"This is iteration: {iteration + 1}\\n\")\n",
    "        \n",
    "\n",
    "    return G, G_s, ACFs_NT, ACFs_IT, ACFs_Q"
   ]
  },
  {
   "cell_type": "code",
   "execution_count": 347,
   "metadata": {},
   "outputs": [],
   "source": [
    "def numerical_solver_irrational_noise_trader(T, T_it, G_0_seed, alpha_G, alpha, tau_MU, tau_NT):\n",
    "    \n",
    "    G = return_G(G_0_seed, alpha_G, T)\n",
    "    \n",
    "    ACF_MU_T_plus_1 = return_Markovian_ACF(tau_MU, T+1)\n",
    "    ACF_NT_T_plus_1 = return_Markovian_ACF(tau_NT, T+1)\n",
    "    F_MU = -np.flip(np.flip(Mforecast('mark','MU',[tau_MU,_],T,2*T,_),1),0)\n",
    "    \n",
    "    G_s = []\n",
    "    ACFs_Q = []\n",
    "    \n",
    "    I = np.identity(T+1)\n",
    "    \n",
    "    L = np.zeros((T,T+1))\n",
    "    L[:T,:T] = np.identity(T)\n",
    "\n",
    "    for iteration in range(0,T_it):\n",
    "        \n",
    "        G_s.append(G[:,0])\n",
    "        \n",
    "        #Computing IT Kernels\n",
    "        K, K_NT, K_MU = ITKernels(G,_, F_MU, False, tau_NT)\n",
    "        \n",
    "        aux1 = np.linalg.inv(I - np.matmul(K,L))\n",
    "        aux2 = I + np.matmul(K_NT,L)\n",
    "        \n",
    "        D_MU = np.matmul(aux1,K_MU)\n",
    "        \n",
    "        aux3 = np.matmul(D_MU,L)\n",
    "\n",
    "        ACF_Q = np.matmul(aux3, np.matmul(ACF_MU_T_plus_1,aux3.T)) + np.matmul(aux1, np.matmul(aux2, np.matmul(ACF_NT_T_plus_1, np.matmul(aux2.T,aux1.T))))\n",
    "        \n",
    "        ACFs_Q.append(ACF_Q)\n",
    "        \n",
    "        Kalman = kalman_filter(G, tau_MU, ACF_Q, D_MU)\n",
    "        \n",
    "        G = new_G_from_equilibrium(G,Kalman,F_MU) \n",
    "        \n",
    "        print(f\"This is iteration: {iteration + 1}\\n\")\n",
    "        \n",
    "\n",
    "    return G, G_s, ACFs_Q"
   ]
  },
  {
   "cell_type": "markdown",
   "metadata": {},
   "source": [
    "## Analysis of results - Rational Noise Trader"
   ]
  },
  {
   "cell_type": "markdown",
   "metadata": {},
   "source": [
    "**Iterating the self-consistent equation**"
   ]
  },
  {
   "cell_type": "code",
   "execution_count": 348,
   "metadata": {},
   "outputs": [
    {
     "name": "stdout",
     "output_type": "stream",
     "text": [
      "This is iteration: 1\n",
      "\n",
      "This is iteration: 2\n",
      "\n",
      "This is iteration: 3\n",
      "\n",
      "This is iteration: 4\n",
      "\n",
      "This is iteration: 5\n",
      "\n",
      "This is iteration: 6\n",
      "\n",
      "This is iteration: 7\n",
      "\n",
      "This is iteration: 8\n",
      "\n",
      "This is iteration: 9\n",
      "\n",
      "This is iteration: 10\n",
      "\n",
      "This is iteration: 11\n",
      "\n",
      "This is iteration: 12\n",
      "\n",
      "This is iteration: 13\n",
      "\n",
      "This is iteration: 14\n",
      "\n",
      "This is iteration: 15\n",
      "\n",
      "This is iteration: 16\n",
      "\n",
      "This is iteration: 17\n",
      "\n",
      "This is iteration: 18\n",
      "\n",
      "This is iteration: 19\n",
      "\n",
      "This is iteration: 20\n",
      "\n",
      "This is iteration: 21\n",
      "\n",
      "This is iteration: 22\n",
      "\n",
      "This is iteration: 23\n",
      "\n",
      "This is iteration: 24\n",
      "\n",
      "This is iteration: 25\n",
      "\n",
      "This is iteration: 26\n",
      "\n",
      "This is iteration: 27\n",
      "\n",
      "This is iteration: 28\n",
      "\n",
      "This is iteration: 29\n",
      "\n",
      "This is iteration: 30\n",
      "\n",
      "This is iteration: 31\n",
      "\n",
      "This is iteration: 32\n",
      "\n",
      "This is iteration: 33\n",
      "\n",
      "This is iteration: 34\n",
      "\n",
      "This is iteration: 35\n",
      "\n",
      "This is iteration: 36\n",
      "\n",
      "This is iteration: 37\n",
      "\n",
      "This is iteration: 38\n",
      "\n",
      "This is iteration: 39\n",
      "\n",
      "This is iteration: 40\n",
      "\n",
      "This is iteration: 41\n",
      "\n",
      "This is iteration: 42\n",
      "\n",
      "This is iteration: 43\n",
      "\n",
      "This is iteration: 44\n",
      "\n",
      "This is iteration: 45\n",
      "\n",
      "This is iteration: 46\n",
      "\n",
      "This is iteration: 47\n",
      "\n",
      "This is iteration: 48\n",
      "\n",
      "This is iteration: 49\n",
      "\n",
      "This is iteration: 50\n",
      "\n",
      "This is iteration: 51\n",
      "\n",
      "This is iteration: 52\n",
      "\n",
      "This is iteration: 53\n",
      "\n",
      "This is iteration: 54\n",
      "\n",
      "This is iteration: 55\n",
      "\n",
      "This is iteration: 56\n",
      "\n",
      "This is iteration: 57\n",
      "\n",
      "This is iteration: 58\n",
      "\n",
      "This is iteration: 59\n",
      "\n",
      "This is iteration: 60\n",
      "\n",
      "This is iteration: 61\n",
      "\n",
      "This is iteration: 62\n",
      "\n",
      "This is iteration: 63\n",
      "\n",
      "This is iteration: 64\n",
      "\n",
      "This is iteration: 65\n",
      "\n",
      "This is iteration: 66\n",
      "\n",
      "This is iteration: 67\n",
      "\n",
      "This is iteration: 68\n",
      "\n",
      "This is iteration: 69\n",
      "\n",
      "This is iteration: 70\n",
      "\n",
      "This is iteration: 71\n",
      "\n",
      "This is iteration: 72\n",
      "\n",
      "This is iteration: 73\n",
      "\n",
      "This is iteration: 74\n",
      "\n",
      "This is iteration: 75\n",
      "\n",
      "This is iteration: 76\n",
      "\n",
      "This is iteration: 77\n",
      "\n",
      "This is iteration: 78\n",
      "\n",
      "This is iteration: 79\n",
      "\n",
      "This is iteration: 80\n",
      "\n",
      "This is iteration: 81\n",
      "\n",
      "This is iteration: 82\n",
      "\n",
      "This is iteration: 83\n",
      "\n",
      "This is iteration: 84\n",
      "\n",
      "This is iteration: 85\n",
      "\n",
      "This is iteration: 86\n",
      "\n",
      "This is iteration: 87\n",
      "\n",
      "This is iteration: 88\n",
      "\n",
      "This is iteration: 89\n",
      "\n",
      "This is iteration: 90\n",
      "\n",
      "This is iteration: 91\n",
      "\n",
      "This is iteration: 92\n",
      "\n",
      "This is iteration: 93\n",
      "\n",
      "This is iteration: 94\n",
      "\n",
      "This is iteration: 95\n",
      "\n",
      "This is iteration: 96\n",
      "\n",
      "This is iteration: 97\n",
      "\n",
      "This is iteration: 98\n",
      "\n",
      "This is iteration: 99\n",
      "\n",
      "This is iteration: 100\n",
      "\n"
     ]
    }
   ],
   "source": [
    "T = 10\n",
    "T_it = 100\n",
    "G_0_seed = 40\n",
    "alpha_G = 0.8\n",
    "alpha = 0.05\n",
    "tau_MU = 20\n",
    "ACF_TGT = np.identity(T+1)\n",
    "\n",
    "G, G_s, ACFs_NT, ACFs_IT, ACFs_Q = numerical_solver_rational_noise_trader(T, T_it, G_0_seed, alpha_G, alpha, tau_MU, ACF_TGT)"
   ]
  },
  {
   "cell_type": "markdown",
   "metadata": {},
   "source": [
    "**Plotting the last 5 propagators found**"
   ]
  },
  {
   "cell_type": "code",
   "execution_count": 349,
   "metadata": {},
   "outputs": [
    {
     "data": {
      "image/png": "[encoded data removed]",
      "text/plain": [
       "<Figure size 1008x576 with 1 Axes>"
      ]
     },
     "metadata": {
      "needs_background": "light"
     },
     "output_type": "display_data"
    }
   ],
   "source": [
    "figure1 = plt.figure(figsize = (14,8))\n",
    "plt.title(\"Propagator Function\")\n",
    "plt.xlabel(r\"$\\tau$\")\n",
    "plt.ylabel(r\"$G$\")\n",
    "for i in range(T_it-5,T_it):\n",
    "    plt.plot(np.arange(0,T),G_s[i])\n",
    "plt.show()"
   ]
  },
  {
   "cell_type": "markdown",
   "metadata": {},
   "source": [
    "**Plotting the last 2 propagators found**"
   ]
  },
  {
   "cell_type": "code",
   "execution_count": 350,
   "metadata": {},
   "outputs": [
    {
     "data": {
      "image/png": "[encoded data removed]",
      "text/plain": [
       "<Figure size 1008x576 with 1 Axes>"
      ]
     },
     "metadata": {
      "needs_background": "light"
     },
     "output_type": "display_data"
    }
   ],
   "source": [
    "figure2 = plt.figure(figsize = (14,8))\n",
    "plt.title(\"Propagator Function\")\n",
    "plt.xlabel(r\"$\\tau$\")\n",
    "plt.ylabel(r\"$G$\")\n",
    "for i in range(T_it-2,T_it):\n",
    "    plt.plot(np.arange(0,T),(G_s[i]))"
   ]
  },
  {
   "cell_type": "markdown",
   "metadata": {},
   "source": [
    "**Plotting the last propagator found (last iteration)**"
   ]
  },
  {
   "cell_type": "code",
   "execution_count": 351,
   "metadata": {},
   "outputs": [
    {
     "data": {
      "image/png": "[encoded data removed]",
      "text/plain": [
       "<Figure size 1008x576 with 1 Axes>"
      ]
     },
     "metadata": {
      "needs_background": "light"
     },
     "output_type": "display_data"
    }
   ],
   "source": [
    "figure3 = plt.figure(figsize = (14,8))\n",
    "plt.title(\"Last Propagator Function\")\n",
    "plt.xlabel(r\"$\\tau$\")\n",
    "plt.ylabel(r\"$G_last$\")\n",
    "plt.plot(np.arange(0,T), G_s[T_it-1])\n",
    "plt.show()"
   ]
  },
  {
   "cell_type": "code",
   "execution_count": 352,
   "metadata": {},
   "outputs": [
    {
     "data": {
      "text/plain": [
       "array([ 4.62008431e+97,  3.45158718e+94, -1.36171212e+91,  3.88542161e+87,\n",
       "       -7.30063808e+85,  6.25473512e+84,  1.22725500e+86,  9.78242202e+86,\n",
       "       -1.28460590e+87, -1.56184811e+84])"
      ]
     },
     "execution_count": 352,
     "metadata": {},
     "output_type": "execute_result"
    }
   ],
   "source": [
    "G_s[T_it-1]"
   ]
  },
  {
   "cell_type": "markdown",
   "metadata": {},
   "source": [
    "**Plotting the Euclidean Distance between sucessive propagators in G_s**"
   ]
  },
  {
   "cell_type": "code",
   "execution_count": 353,
   "metadata": {},
   "outputs": [
    {
     "data": {
      "text/plain": [
       "[<matplotlib.lines.Line2D at 0x7fece9eccb90>]"
      ]
     },
     "execution_count": 353,
     "metadata": {},
     "output_type": "execute_result"
    },
    {
     "data": {
      "image/png": "[encoded data removed]",
      "text/plain": [
       "<Figure size 1008x576 with 1 Axes>"
      ]
     },
     "metadata": {
      "needs_background": "light"
     },
     "output_type": "display_data"
    }
   ],
   "source": [
    "from scipy.spatial.distance import euclidean\n",
    "figure4 = plt.figure(figsize = (14,8))\n",
    "plt.title(\"Spatial distance between sucessive propagators\")\n",
    "plt.xlabel(r\"Iteration\")\n",
    "plt.ylabel(r\"Euclidean Distance\")\n",
    "\n",
    "distances = np.ones(T_it-1)\n",
    "\n",
    "for i in range(0,T_it-1):\n",
    "    distances[i] = euclidean(G_s[i],G_s[i+1])\n",
    "    \n",
    "plt.plot(np.arange(0,T_it-1),distances)"
   ]
  },
  {
   "cell_type": "markdown",
   "metadata": {},
   "source": [
    "**Plotting the ACF of the Noise Trader**"
   ]
  },
  {
   "cell_type": "code",
   "execution_count": 354,
   "metadata": {},
   "outputs": [
    {
     "data": {
      "image/png": "[encoded data removed]",
      "text/plain": [
       "<Figure size 1008x576 with 1 Axes>"
      ]
     },
     "metadata": {
      "needs_background": "light"
     },
     "output_type": "display_data"
    }
   ],
   "source": [
    "figure5 = plt.figure(figsize = (14,8))\n",
    "plt.title(\"ACF of the NT\")\n",
    "plt.xlabel(r\"$\\tau$\")\n",
    "plt.ylabel(r\"$\\mathsf{ACF}_{NT}$\")\n",
    "plt.plot(np.arange(0,T+1), ACFs_NT[T_it-1][0,:])\n",
    "plt.show()"
   ]
  },
  {
   "cell_type": "markdown",
   "metadata": {},
   "source": [
    "**Plotting ACF of the Informed Trader**"
   ]
  },
  {
   "cell_type": "code",
   "execution_count": 355,
   "metadata": {},
   "outputs": [
    {
     "data": {
      "image/png": "[encoded data removed]",
      "text/plain": [
       "<Figure size 1008x576 with 1 Axes>"
      ]
     },
     "metadata": {
      "needs_background": "light"
     },
     "output_type": "display_data"
    }
   ],
   "source": [
    "figure6 = plt.figure(figsize = (14,8))\n",
    "plt.title(\"ACF of the IT\")\n",
    "plt.xlabel(r\"$\\tau$\")\n",
    "plt.ylabel(r\"$\\mathsf{ACF}_{IT}$\")\n",
    "plt.plot(np.arange(0,T+1), ACFs_IT[T_it-1][0,:])\n",
    "plt.show()"
   ]
  },
  {
   "cell_type": "markdown",
   "metadata": {},
   "source": [
    "**Plotting the ACF of the Total Excess Demand**"
   ]
  },
  {
   "cell_type": "code",
   "execution_count": 356,
   "metadata": {},
   "outputs": [
    {
     "data": {
      "image/png": "[encoded data removed]",
      "text/plain": [
       "<Figure size 1008x576 with 1 Axes>"
      ]
     },
     "metadata": {
      "needs_background": "light"
     },
     "output_type": "display_data"
    }
   ],
   "source": [
    "figure7 = plt.figure(figsize = (14,8))\n",
    "plt.title(\"ACF of the Total Excess Demand\")\n",
    "plt.xlabel(r\"$\\tau$\")\n",
    "plt.ylabel(r\"$\\mathsf{ACF}_{Q}$\")\n",
    "plt.plot(np.arange(0,T+1), ACFs_Q[T_it-1][0,:])\n",
    "plt.show()"
   ]
  },
  {
   "cell_type": "markdown",
   "metadata": {},
   "source": [
    "## Superposition of ACFs - Rational Noise Trader"
   ]
  },
  {
   "cell_type": "markdown",
   "metadata": {},
   "source": [
    "**ACF_NT and ACF_Q**"
   ]
  },
  {
   "cell_type": "code",
   "execution_count": 357,
   "metadata": {},
   "outputs": [
    {
     "data": {
      "image/png": "[encoded data removed]",
      "text/plain": [
       "<Figure size 1008x576 with 1 Axes>"
      ]
     },
     "metadata": {
      "needs_background": "light"
     },
     "output_type": "display_data"
    }
   ],
   "source": [
    "figure8 = plt.figure(figsize = (14,8))\n",
    "plt.title(\"ACF of the Total Demand Excess\")\n",
    "plt.xlabel(r\"$\\tau$\")\n",
    "plt.ylabel(r\"$\\mathsf{ACFs}$\")\n",
    "plt.plot(np.arange(0,T+1), ACFs_NT[T_it-1][0,:], label = \"ACF_NT\")\n",
    "plt.plot(np.arange(0,T+1), ACFs_Q[T_it-1][0,:], label = \"ACF_Q\")\n",
    "plt.plot(np.arange(0,T+1), ACFs_IT[T_it-1][0,:], label = \"ACF_IT\")\n",
    "plt.legend()\n",
    "plt.show()"
   ]
  },
  {
   "cell_type": "markdown",
   "metadata": {},
   "source": [
    "## Analysis of Results - Irrational Noise Trader"
   ]
  },
  {
   "cell_type": "code",
   "execution_count": 358,
   "metadata": {},
   "outputs": [
    {
     "name": "stdout",
     "output_type": "stream",
     "text": [
      "This is iteration: 1\n",
      "\n",
      "This is iteration: 2\n",
      "\n",
      "This is iteration: 3\n",
      "\n",
      "This is iteration: 4\n",
      "\n",
      "This is iteration: 5\n",
      "\n",
      "This is iteration: 6\n",
      "\n",
      "This is iteration: 7\n",
      "\n",
      "This is iteration: 8\n",
      "\n",
      "This is iteration: 9\n",
      "\n",
      "This is iteration: 10\n",
      "\n",
      "This is iteration: 11\n",
      "\n",
      "This is iteration: 12\n",
      "\n",
      "This is iteration: 13\n",
      "\n",
      "This is iteration: 14\n",
      "\n",
      "This is iteration: 15\n",
      "\n",
      "This is iteration: 16\n",
      "\n",
      "This is iteration: 17\n",
      "\n",
      "This is iteration: 18\n",
      "\n",
      "This is iteration: 19\n",
      "\n",
      "This is iteration: 20\n",
      "\n",
      "This is iteration: 21\n",
      "\n",
      "This is iteration: 22\n",
      "\n",
      "This is iteration: 23\n",
      "\n",
      "This is iteration: 24\n",
      "\n",
      "This is iteration: 25\n",
      "\n",
      "This is iteration: 26\n",
      "\n",
      "This is iteration: 27\n",
      "\n",
      "This is iteration: 28\n",
      "\n",
      "This is iteration: 29\n",
      "\n",
      "This is iteration: 30\n",
      "\n",
      "This is iteration: 31\n",
      "\n",
      "This is iteration: 32\n",
      "\n",
      "This is iteration: 33\n",
      "\n",
      "This is iteration: 34\n",
      "\n",
      "This is iteration: 35\n",
      "\n",
      "This is iteration: 36\n",
      "\n",
      "This is iteration: 37\n",
      "\n",
      "This is iteration: 38\n",
      "\n",
      "This is iteration: 39\n",
      "\n",
      "This is iteration: 40\n",
      "\n",
      "This is iteration: 41\n",
      "\n",
      "This is iteration: 42\n",
      "\n",
      "This is iteration: 43\n",
      "\n",
      "This is iteration: 44\n",
      "\n",
      "This is iteration: 45\n",
      "\n",
      "This is iteration: 46\n",
      "\n",
      "This is iteration: 47\n",
      "\n",
      "This is iteration: 48\n",
      "\n",
      "This is iteration: 49\n",
      "\n",
      "This is iteration: 50\n",
      "\n",
      "This is iteration: 51\n",
      "\n",
      "This is iteration: 52\n",
      "\n",
      "This is iteration: 53\n",
      "\n",
      "This is iteration: 54\n",
      "\n",
      "This is iteration: 55\n",
      "\n",
      "This is iteration: 56\n",
      "\n",
      "This is iteration: 57\n",
      "\n",
      "This is iteration: 58\n",
      "\n",
      "This is iteration: 59\n",
      "\n",
      "This is iteration: 60\n",
      "\n",
      "This is iteration: 61\n",
      "\n",
      "This is iteration: 62\n",
      "\n",
      "This is iteration: 63\n",
      "\n",
      "This is iteration: 64\n",
      "\n",
      "This is iteration: 65\n",
      "\n",
      "This is iteration: 66\n",
      "\n",
      "This is iteration: 67\n",
      "\n",
      "This is iteration: 68\n",
      "\n",
      "This is iteration: 69\n",
      "\n",
      "This is iteration: 70\n",
      "\n",
      "This is iteration: 71\n",
      "\n",
      "This is iteration: 72\n",
      "\n",
      "This is iteration: 73\n",
      "\n",
      "This is iteration: 74\n",
      "\n",
      "This is iteration: 75\n",
      "\n",
      "This is iteration: 76\n",
      "\n",
      "This is iteration: 77\n",
      "\n",
      "This is iteration: 78\n",
      "\n",
      "This is iteration: 79\n",
      "\n",
      "This is iteration: 80\n",
      "\n",
      "This is iteration: 81\n",
      "\n",
      "This is iteration: 82\n",
      "\n",
      "This is iteration: 83\n",
      "\n",
      "This is iteration: 84\n",
      "\n",
      "This is iteration: 85\n",
      "\n",
      "This is iteration: 86\n",
      "\n",
      "This is iteration: 87\n",
      "\n",
      "This is iteration: 88\n",
      "\n",
      "This is iteration: 89\n",
      "\n",
      "This is iteration: 90\n",
      "\n",
      "This is iteration: 91\n",
      "\n",
      "This is iteration: 92\n",
      "\n",
      "This is iteration: 93\n",
      "\n",
      "This is iteration: 94\n",
      "\n",
      "This is iteration: 95\n",
      "\n",
      "This is iteration: 96\n",
      "\n",
      "This is iteration: 97\n",
      "\n",
      "This is iteration: 98\n",
      "\n",
      "This is iteration: 99\n",
      "\n",
      "This is iteration: 100\n",
      "\n",
      "This is iteration: 101\n",
      "\n",
      "This is iteration: 102\n",
      "\n",
      "This is iteration: 103\n",
      "\n",
      "This is iteration: 104\n",
      "\n",
      "This is iteration: 105\n",
      "\n",
      "This is iteration: 106\n",
      "\n",
      "This is iteration: 107\n",
      "\n",
      "This is iteration: 108\n",
      "\n",
      "This is iteration: 109\n",
      "\n",
      "This is iteration: 110\n",
      "\n",
      "This is iteration: 111\n",
      "\n",
      "This is iteration: 112\n",
      "\n",
      "This is iteration: 113\n",
      "\n",
      "This is iteration: 114\n",
      "\n",
      "This is iteration: 115\n",
      "\n",
      "This is iteration: 116\n",
      "\n",
      "This is iteration: 117\n",
      "\n",
      "This is iteration: 118\n",
      "\n",
      "This is iteration: 119\n",
      "\n",
      "This is iteration: 120\n",
      "\n",
      "This is iteration: 121\n",
      "\n",
      "This is iteration: 122\n",
      "\n",
      "This is iteration: 123\n",
      "\n",
      "This is iteration: 124\n",
      "\n",
      "This is iteration: 125\n",
      "\n",
      "This is iteration: 126\n",
      "\n",
      "This is iteration: 127\n",
      "\n",
      "This is iteration: 128\n",
      "\n",
      "This is iteration: 129\n",
      "\n",
      "This is iteration: 130\n",
      "\n",
      "This is iteration: 131\n",
      "\n",
      "This is iteration: 132\n",
      "\n",
      "This is iteration: 133\n",
      "\n",
      "This is iteration: 134\n",
      "\n",
      "This is iteration: 135\n",
      "\n",
      "This is iteration: 136\n",
      "\n",
      "This is iteration: 137\n",
      "\n",
      "This is iteration: 138\n",
      "\n",
      "This is iteration: 139\n",
      "\n",
      "This is iteration: 140\n",
      "\n",
      "This is iteration: 141\n",
      "\n",
      "This is iteration: 142\n",
      "\n",
      "This is iteration: 143\n",
      "\n",
      "This is iteration: 144\n",
      "\n",
      "This is iteration: 145\n",
      "\n",
      "This is iteration: 146\n",
      "\n",
      "This is iteration: 147\n",
      "\n",
      "This is iteration: 148\n",
      "\n",
      "This is iteration: 149\n",
      "\n",
      "This is iteration: 150\n",
      "\n",
      "This is iteration: 151\n",
      "\n",
      "This is iteration: 152\n",
      "\n",
      "This is iteration: 153\n",
      "\n",
      "This is iteration: 154\n",
      "\n",
      "This is iteration: 155\n",
      "\n",
      "This is iteration: 156\n",
      "\n",
      "This is iteration: 157\n",
      "\n",
      "This is iteration: 158\n",
      "\n",
      "This is iteration: 159\n",
      "\n",
      "This is iteration: 160\n",
      "\n",
      "This is iteration: 161\n",
      "\n",
      "This is iteration: 162\n",
      "\n",
      "This is iteration: 163\n",
      "\n",
      "This is iteration: 164\n",
      "\n",
      "This is iteration: 165\n",
      "\n",
      "This is iteration: 166\n",
      "\n",
      "This is iteration: 167\n",
      "\n",
      "This is iteration: 168\n",
      "\n",
      "This is iteration: 169\n",
      "\n",
      "This is iteration: 170\n",
      "\n",
      "This is iteration: 171\n",
      "\n",
      "This is iteration: 172\n",
      "\n",
      "This is iteration: 173\n",
      "\n",
      "This is iteration: 174\n",
      "\n",
      "This is iteration: 175\n",
      "\n",
      "This is iteration: 176\n",
      "\n",
      "This is iteration: 177\n",
      "\n",
      "This is iteration: 178\n",
      "\n",
      "This is iteration: 179\n",
      "\n",
      "This is iteration: 180\n",
      "\n",
      "This is iteration: 181\n",
      "\n",
      "This is iteration: 182\n",
      "\n",
      "This is iteration: 183\n",
      "\n",
      "This is iteration: 184\n",
      "\n",
      "This is iteration: 185\n",
      "\n",
      "This is iteration: 186\n",
      "\n",
      "This is iteration: 187\n",
      "\n",
      "This is iteration: 188\n",
      "\n",
      "This is iteration: 189\n",
      "\n",
      "This is iteration: 190\n",
      "\n",
      "This is iteration: 191\n",
      "\n",
      "This is iteration: 192\n",
      "\n",
      "This is iteration: 193\n",
      "\n",
      "This is iteration: 194\n",
      "\n",
      "This is iteration: 195\n",
      "\n",
      "This is iteration: 196\n",
      "\n",
      "This is iteration: 197\n",
      "\n",
      "This is iteration: 198\n",
      "\n",
      "This is iteration: 199\n",
      "\n",
      "This is iteration: 200\n",
      "\n"
     ]
    }
   ],
   "source": [
    "T = 10\n",
    "T_it = 200\n",
    "G_0_seed = 50\n",
    "alpha_G = 0.4\n",
    "tau_MU = 20\n",
    "tau_NT = 10\n",
    "\n",
    "G_Irrational, G_s_Irrational, ACFs_Q_Irrational = numerical_solver_irrational_noise_trader(T, T_it, G_0_seed, alpha_G, alpha, tau_MU, tau_NT)"
   ]
  },
  {
   "cell_type": "code",
   "execution_count": 359,
   "metadata": {},
   "outputs": [
    {
     "data": {
      "image/png": "[encoded data removed]",
      "text/plain": [
       "<Figure size 1008x576 with 1 Axes>"
      ]
     },
     "metadata": {
      "needs_background": "light"
     },
     "output_type": "display_data"
    }
   ],
   "source": [
    "figure9 = plt.figure(figsize = (14,8))\n",
    "plt.title(\"Propagator Function - Irrational Noise Trader\")\n",
    "plt.xlabel(r\"$\\tau$\")\n",
    "plt.ylabel(r\"$G$\")\n",
    "for i in range(T_it-2,T_it):\n",
    "    plt.plot(np.arange(0,T),G_s_Irrational[i])\n",
    "plt.show()"
   ]
  },
  {
   "cell_type": "code",
   "execution_count": 360,
   "metadata": {},
   "outputs": [
    {
     "data": {
      "image/png": "[encoded data removed]",
      "text/plain": [
       "<Figure size 1008x576 with 1 Axes>"
      ]
     },
     "metadata": {
      "needs_background": "light"
     },
     "output_type": "display_data"
    }
   ],
   "source": [
    "figure10 = plt.figure(figsize = (14,8))\n",
    "plt.title(\"Propagator Function\")\n",
    "plt.xlabel(r\"$\\tau$\")\n",
    "plt.ylabel(r\"$G$\")\n",
    "for i in range(T_it-1,T_it):\n",
    "    plt.plot(np.arange(0,T),(G_s_Irrational[i]))"
   ]
  },
  {
   "cell_type": "markdown",
   "metadata": {},
   "source": [
    "## Debugging"
   ]
  },
  {
   "cell_type": "markdown",
   "metadata": {},
   "source": [
    "**G**"
   ]
  },
  {
   "cell_type": "code",
   "execution_count": 361,
   "metadata": {},
   "outputs": [
    {
     "data": {
      "text/plain": [
       "array([[50.  ,  0.  ,  0.  ,  0.  ,  0.  ],\n",
       "       [20.  , 50.  ,  0.  ,  0.  ,  0.  ],\n",
       "       [ 8.  , 20.  , 50.  ,  0.  ,  0.  ],\n",
       "       [ 3.2 ,  8.  , 20.  , 50.  ,  0.  ],\n",
       "       [ 1.28,  3.2 ,  8.  , 20.  , 50.  ]])"
      ]
     },
     "execution_count": 361,
     "metadata": {},
     "output_type": "execute_result"
    }
   ],
   "source": [
    "G =  return_G(G_0_seed, alpha_G, 5)\n",
    "G"
   ]
  },
  {
   "cell_type": "markdown",
   "metadata": {},
   "source": [
    "**G_futpast**"
   ]
  },
  {
   "cell_type": "code",
   "execution_count": 362,
   "metadata": {},
   "outputs": [],
   "source": [
    "G_futpast = return_G_futpast(G)"
   ]
  },
  {
   "cell_type": "code",
   "execution_count": 363,
   "metadata": {},
   "outputs": [
    {
     "data": {
      "text/plain": [
       "array([[ 0.  ,  1.28,  3.2 ,  8.  , 20.  ],\n",
       "       [ 0.  ,  0.  ,  1.28,  3.2 ,  8.  ],\n",
       "       [ 0.  ,  0.  ,  0.  ,  1.28,  3.2 ],\n",
       "       [ 0.  ,  0.  ,  0.  ,  0.  ,  1.28],\n",
       "       [ 0.  ,  0.  ,  0.  ,  0.  ,  0.  ]])"
      ]
     },
     "execution_count": 363,
     "metadata": {},
     "output_type": "execute_result"
    }
   ],
   "source": [
    "G_futpast"
   ]
  },
  {
   "cell_type": "markdown",
   "metadata": {},
   "source": [
    "**Lag Matrix**"
   ]
  },
  {
   "cell_type": "code",
   "execution_count": 371,
   "metadata": {},
   "outputs": [],
   "source": [
    "T = 5\n",
    "L = np.zeros((T,T+1))\n",
    "L[:T,:T] = np.identity(T)"
   ]
  },
  {
   "cell_type": "code",
   "execution_count": 372,
   "metadata": {},
   "outputs": [
    {
     "data": {
      "text/plain": [
       "array([[1., 0., 0., 0., 0., 0.],\n",
       "       [0., 1., 0., 0., 0., 0.],\n",
       "       [0., 0., 1., 0., 0., 0.],\n",
       "       [0., 0., 0., 1., 0., 0.],\n",
       "       [0., 0., 0., 0., 1., 0.]])"
      ]
     },
     "execution_count": 372,
     "metadata": {},
     "output_type": "execute_result"
    }
   ],
   "source": [
    "L"
   ]
  },
  {
   "cell_type": "code",
   "execution_count": 373,
   "metadata": {},
   "outputs": [],
   "source": [
    "F_MU = -1*np.flip(np.flip(Mforecast('mark','MU',[1,_],T,2*T,_),1),0)"
   ]
  },
  {
   "cell_type": "code",
   "execution_count": 374,
   "metadata": {},
   "outputs": [
    {
     "data": {
      "text/plain": [
       "array([[ 0.00673795, -0.        , -0.        , -0.        , -0.        ],\n",
       "       [ 0.01831564, -0.        , -0.        , -0.        , -0.        ],\n",
       "       [ 0.04978707, -0.        , -0.        , -0.        , -0.        ],\n",
       "       [ 0.13533528, -0.        , -0.        , -0.        , -0.        ],\n",
       "       [ 0.36787944, -0.        , -0.        , -0.        , -0.        ]])"
      ]
     },
     "execution_count": 374,
     "metadata": {},
     "output_type": "execute_result"
    }
   ],
   "source": [
    "F_MU"
   ]
  },
  {
   "cell_type": "code",
   "execution_count": null,
   "metadata": {},
   "outputs": [],
   "source": []
  }
 ],
 "metadata": {
  "kernelspec": {
   "display_name": "Python 3",
   "language": "python",
   "name": "python3"
  },
  "language_info": {
   "codemirror_mode": {
    "name": "ipython",
    "version": 3
   },
   "file_extension": ".py",
   "mimetype": "text/x-python",
   "name": "python",
   "nbconvert_exporter": "python",
   "pygments_lexer": "ipython3",
   "version": "3.7.6"
  }
 },
 "nbformat": 4,
 "nbformat_minor": 4
}
